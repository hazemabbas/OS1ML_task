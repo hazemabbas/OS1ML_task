{
  "cells": [
    {
      "cell_type": "code",
      "source": [
        "import warnings\n",
        "warnings.filterwarnings(\"ignore\", message=\"numpy.dtype size changed\")\n",
        "warnings.filterwarnings(\"ignore\", message=\"numpy.ufunc size changed\")\n",
        "import csv\n",
        "import pandas as pd\n",
        "import numpy as np\n",
        "import matplotlib.pyplot as plt\n",
        "\n",
        "perUserDict = {}\n",
        "data = pd.read_csv('~/Research/SO1/Fathi/train.csv')"
      ],
      "outputs": [],
      "execution_count": 13,
      "metadata": {
        "collapsed": false,
        "outputHidden": false,
        "inputHidden": false
      }
    },
    {
      "cell_type": "code",
      "source": [
        "numCustomers = data.i.nunique() #starts at zero to numCustomers -1\n",
        "numProducts = data.j.nunique() # starts at zero to numProducts -1\n",
        "numSteps = data.t.nunique() # starts at zero to numSteps -1\n",
        "print(numCustomers, numProducts , numSteps)\n"
      ],
      "outputs": [
        {
          "output_type": "stream",
          "name": "stdout",
          "text": [
            "2000 40 49\n"
          ]
        }
      ],
      "execution_count": 14,
      "metadata": {
        "collapsed": false,
        "outputHidden": false,
        "inputHidden": false
      }
    },
    {
      "cell_type": "code",
      "source": [
        "X = np.zeros((numSteps,numProducts)) # Every Cell Value is whether this product was advertised or not\n",
        "Y = np.zeros((numSteps,numCustomers,numProducts)) #time , customer , product and the value in every Cell\n",
        "#is whether the product was bought or not."
      ],
      "outputs": [],
      "execution_count": 15,
      "metadata": {
        "collapsed": false,
        "outputHidden": false,
        "inputHidden": false
      }
    },
    {
      "cell_type": "code",
      "source": [
        "print(X.shape)\n",
        "print(Y.shape)"
      ],
      "outputs": [
        {
          "output_type": "stream",
          "name": "stdout",
          "text": [
            "(49, 40)\n",
            "(49, 2000, 40)\n"
          ]
        }
      ],
      "execution_count": 16,
      "metadata": {
        "collapsed": false,
        "outputHidden": false,
        "inputHidden": false
      }
    },
    {
      "cell_type": "code",
      "source": [
        "for index, row in data.iterrows():\n",
        "    time = int(row['t'])\n",
        "    customer = int(row['i'])\n",
        "    product = int(row['j'])\n",
        "    advertised = int(row['advertised'])\n",
        "    Y[time,customer, product] = 1\n",
        "    X[time,product] = advertised"
      ],
      "outputs": [],
      "execution_count": 17,
      "metadata": {
        "collapsed": false,
        "outputHidden": false,
        "inputHidden": false
      }
    },
    {
      "cell_type": "code",
      "source": [
        "WindowSize = 20 \n",
        "PredictionStep = 40\n"
      ],
      "outputs": [],
      "execution_count": 18,
      "metadata": {
        "collapsed": false,
        "outputHidden": false,
        "inputHidden": false
      }
    },
    {
      "cell_type": "code",
      "source": [
        "import keras\n",
        "from keras.models import Sequential\n",
        "from keras.layers import Dense , Dropout\n",
        "from keras.layers import LSTM"
      ],
      "outputs": [],
      "execution_count": null,
      "metadata": {
        "collapsed": false,
        "outputHidden": false,
        "inputHidden": false
      }
    },
    {
      "cell_type": "code",
      "source": [
        "numHiddenNeurons = 200\n",
        "model = Sequential()\n",
        "model.add(LSTM(numHiddenNeurons , input_shape=(None,numProducts), return_sequences=True))\n",
        "model.add(Dense(numHiddenNeurons))\n",
        "model.add(Dropout(.5))\n",
        "model.add(Dense(numCustomers * numProducts))\n",
        "model.compile(loss='mean_squared_error', optimizer='adam')\n",
        "print(model.summary())\n"
      ],
      "outputs": [],
      "execution_count": null,
      "metadata": {
        "collapsed": false,
        "outputHidden": false,
        "inputHidden": false
      }
    },
    {
      "cell_type": "code",
      "source": [
        "tempX = np.zeros((WindowSize, X.shape[1]))\n",
        "tempY = np.zeros((WindowSize, Y.shape[1], Y.shape[2]))\n",
        "numEpochs = 1000\n",
        "batchSize = 2\n",
        "NumTimeSteps = WindowSize//batchSize\n",
        "print(\"Time step is \", NumTimeSteps)\n",
        "for j in range(numEpochs):\n",
        "    print(\"Now In Epoch :: \" , j)\n",
        "    for i in range(0, PredictionStep, 1):\n",
        "      tempX = X[i:i+WindowSize,:]\n",
        "      tempY = Y[i:i+WindowSize,:]\n",
        "      print(tempX.shape)\n",
        "      if(tempX.shape[0] >= WindowSize):\n",
        "          tempX = tempX.reshape(batchSize, NumTimeSteps,numProducts)\n",
        "          tempY = tempY.reshape(batchSize,NumTimeSteps,numCustomers * numProducts)\n",
        "      else:\n",
        "          tempX = tempX.reshape(1,tempX.shape[0], numProducts)\n",
        "          tempY = tempY.reshape(1, tempY.shape[0], numCustomers* numProducts)\n",
        "      model.fit(tempX, tempY, batch_size=batchSize, epochs=1)"
      ],
      "outputs": [],
      "execution_count": null,
      "metadata": {
        "collapsed": false,
        "outputHidden": false,
        "inputHidden": false
      }
    },
    {
      "cell_type": "code",
      "source": [
        "model.save(\"200_Neurons_w_Dropout_255_epochs_final\")"
      ],
      "outputs": [],
      "execution_count": null,
      "metadata": {
        "collapsed": false,
        "outputHidden": false,
        "inputHidden": false
      }
    },
    {
      "cell_type": "code",
      "source": [
        "model.load_weights(\"200_Neurons_w_Dropout_255_epochs_final\")"
      ],
      "outputs": [],
      "execution_count": null,
      "metadata": {
        "collapsed": false,
        "outputHidden": false,
        "inputHidden": false
      }
    },
    {
      "cell_type": "code",
      "source": [
        "TestWindowSize = 25 # real windowSize while testing.\n",
        "print(X.shape)\n",
        "for i in range(0, numSteps - TestWindowSize+1, 1):\n",
        "    print(i)\n",
        "    tempX = X[i:i+TestWindowSize,:]\n",
        "    tempY = Y[i:i+TestWindowSize,:]\n",
        "    tempX = tempX.reshape(1,TestWindowSize,numProducts)\n",
        "    tempY = tempY.reshape(1,TestWindowSize,numCustomers * numProducts)\n",
        "    print(model.evaluate(tempX,tempY))\n",
        "    "
      ],
      "outputs": [],
      "execution_count": null,
      "metadata": {
        "collapsed": false,
        "outputHidden": false,
        "inputHidden": false
      }
    },
    {
      "cell_type": "code",
      "source": [
        "# to predict the value at t = desiredTime, use the previous (window_size) steps before that\n",
        "desiredTime = 37\n",
        "TestWindowSize = 25\n",
        "Y_pred = model.predict(X[desiredTime-TestWindowSize +1:desiredTime+1, :].reshape(1, TestWindowSize, numProducts))\n",
        "Y_pred = Y_pred[0,-1,:].reshape(numCustomers , numProducts) #last element\n",
        "print(\"YPred\",Y_pred.shape)\n",
        "Y_true = Y[desiredTime].reshape(numCustomers, numProducts)\n",
        "print(\"Y_ytrue\",Y_true.shape)\n",
        "Y_pred[Y_pred >= .5] = 1\n",
        "Y_pred[Y_pred < .5] = 0"
      ],
      "outputs": [],
      "execution_count": null,
      "metadata": {
        "collapsed": false,
        "outputHidden": false,
        "inputHidden": false
      }
    },
    {
      "cell_type": "code",
      "source": [
        "mse = ((Y_true - Y_pred) ** 2).mean()\n",
        "print(mse)\n",
        "\n",
        "counterShared = 0\n",
        "counterPredOnly = 0\n",
        "counterTrueOnly = 0\n",
        "for i in range(numCustomers):\n",
        "    for j in range(numProducts):\n",
        "        if(Y_pred[i][j] == 1 and Y_true[i][j] ==1):\n",
        "            #print(i,j)\n",
        "            counterShared = counterShared +1\n",
        "        elif(Y_pred[i][j] == 1):\n",
        "            counterPredOnly = counterPredOnly +1\n",
        "        elif(Y_true[i][j] ==1):\n",
        "            counterTrueOnly = counterTrueOnly +1\n",
        "            \n",
        "            \n",
        "print( \"Shared buying between true and prediction : \",counterShared)\n",
        "print(\"Elements really bought that weren't predicted to be bought\", counterTrueOnly)\n",
        "print(\"Elements That were falsly predicted to be bought\", counterPredOnly)"
      ],
      "outputs": [],
      "execution_count": null,
      "metadata": {
        "collapsed": false,
        "outputHidden": false,
        "inputHidden": false
      }
    },
    {
      "cell_type": "code",
      "source": [
        "#Evaluating at week = 50\n",
        "\n",
        "data_50 = pd.read_csv('promotion_schedule.csv')\n",
        "\n",
        "#note in the file itself, the data for product j = 20 is missing. I will add it in code here\n",
        "data_50 = data_50.append(pd.DataFrame({'j':20 , 'discount':0.0, 'advertised':0},index=[39])).sort_values(by=['j'])\n",
        "data_50 = data_50.reset_index(drop=True)\n",
        "\n",
        "X_50 = data_50.advertised.values.reshape(1,numProducts)\n",
        "print(X_50.shape)\n",
        "\n",
        "X_for_Evaluation = np.copy(X)\n",
        "X_for_Evaluation = np.vstack((X_for_Evaluation,X_50))\n",
        "print(X_for_Evaluation.shape)"
      ],
      "outputs": [],
      "execution_count": null,
      "metadata": {
        "collapsed": false,
        "outputHidden": false,
        "inputHidden": false
      }
    },
    {
      "cell_type": "code",
      "source": [
        "TestWindowSize = 25\n",
        "desiredTime = 49\n",
        "Y_pred = model.predict(X_for_Evaluation[desiredTime-TestWindowSize +1:desiredTime+1, :].reshape(1, TestWindowSize, numProducts))\n",
        "Y_pred = Y_pred[0,-1,:].reshape(numCustomers , numProducts) #last element\n",
        "#print(\"YPred\",Y_pred.shape)\n",
        "\n",
        "Y_pred[Y_pred < .00000000001] = 0\n",
        "\n",
        "with open('Predictions.csv', 'w', newline='') as csvfile:\n",
        "    Writer = csv.writer(csvfile)\n",
        "    Writer.writerow([\"i\",\"j\",\"prediction\"])\n",
        "    for i in range(numCustomers):\n",
        "        for j in range (numProducts):\n",
        "            print(i,\",\",j, \",\", Y_pred[i][j])\n",
        "            Writer.writerow([i,j,Y_pred[i][j]])"
      ],
      "outputs": [],
      "execution_count": null,
      "metadata": {
        "collapsed": false,
        "outputHidden": false,
        "inputHidden": false
      }
    },
    {
      "cell_type": "code",
      "source": [],
      "outputs": [],
      "execution_count": null,
      "metadata": {
        "collapsed": false,
        "outputHidden": false,
        "inputHidden": false
      }
    }
  ],
  "metadata": {
    "kernel_info": {
      "name": "python3"
    },
    "language_info": {
      "name": "python",
      "version": "3.6.3",
      "mimetype": "text/x-python",
      "codemirror_mode": {
        "name": "ipython",
        "version": 3
      },
      "pygments_lexer": "ipython3",
      "nbconvert_exporter": "python",
      "file_extension": ".py"
    },
    "kernelspec": {
      "name": "python3",
      "language": "python",
      "display_name": "Python 3"
    },
    "nteract": {
      "version": "0.11.6"
    }
  },
  "nbformat": 4,
  "nbformat_minor": 4
}